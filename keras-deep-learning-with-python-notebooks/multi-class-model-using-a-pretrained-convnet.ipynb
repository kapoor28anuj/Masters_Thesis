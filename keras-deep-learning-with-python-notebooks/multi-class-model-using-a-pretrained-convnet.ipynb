{
 "cells": [
  {
   "cell_type": "code",
   "execution_count": 1,
   "metadata": {},
   "outputs": [
    {
     "name": "stderr",
     "output_type": "stream",
     "text": [
      "/Users/rchase/anaconda/lib/python3.6/site-packages/h5py/__init__.py:34: FutureWarning: Conversion of the second argument of issubdtype from `float` to `np.floating` is deprecated. In future, it will be treated as `np.float64 == np.dtype(float).type`.\n",
      "  from ._conv import register_converters as _register_converters\n",
      "Using TensorFlow backend.\n"
     ]
    },
    {
     "data": {
      "text/plain": [
       "'2.1.3'"
      ]
     },
     "execution_count": 1,
     "metadata": {},
     "output_type": "execute_result"
    }
   ],
   "source": [
    "import keras\n",
    "keras.__version__"
   ]
  },
  {
   "cell_type": "code",
   "execution_count": 2,
   "metadata": {},
   "outputs": [
    {
     "name": "stdout",
     "output_type": "stream",
     "text": [
      "3.6.1 |Anaconda custom (64-bit)| (default, May 11 2017, 13:04:09) \n",
      "[GCC 4.2.1 Compatible Apple LLVM 6.0 (clang-600.0.57)]\n"
     ]
    }
   ],
   "source": [
    "import sys\n",
    "print (sys.version)"
   ]
  },
  {
   "cell_type": "markdown",
   "metadata": {},
   "source": [
    "# Using a pre-trained convnet\n",
    "\n",
    "This notebook contains the code sample found in Chapter 5, Section 3 of [Deep Learning with Python](https://www.manning.com/books/deep-learning-with-python?a_aid=keras&a_bid=76564dff). Note that the original text features far more content, in particular further explanations and figures: in this notebook, you will only find source code and related comments.\n",
    "\n",
    "----\n",
    "\n",
    "A common and highly effective approach to deep learning on small image datasets is to leverage a pre-trained network. A pre-trained network \n",
    "is simply a saved network previously trained on a large dataset, typically on a large-scale image classification task. If this original \n",
    "dataset is large enough and general enough, then the spatial feature hierarchy learned by the pre-trained network can effectively act as a \n",
    "generic model of our visual world, and hence its features can prove useful for many different computer vision problems, even though these \n",
    "new problems might involve completely different classes from those of the original task. For instance, one might train a network on \n",
    "ImageNet (where classes are mostly animals and everyday objects) and then re-purpose this trained network for something as remote as \n",
    "identifying furniture items in images. Such portability of learned features across different problems is a key advantage of deep learning \n",
    "compared to many older shallow learning approaches, and it makes deep learning very effective for small-data problems.\n",
    "\n",
    "In our case, we will consider a large convnet trained on the ImageNet dataset (1.4 million labeled images and 1000 different classes). \n",
    "ImageNet contains many animal classes, including different species of cats and dogs, and we can thus expect to perform very well on our cat \n",
    "vs. dog classification problem.\n",
    "\n",
    "We will use the VGG16 architecture, developed by Karen Simonyan and Andrew Zisserman in 2014, a simple and widely used convnet architecture \n",
    "for ImageNet. Although it is a bit of an older model, far from the current state of the art and somewhat heavier than many other recent \n",
    "models, we chose it because its architecture is similar to what you are already familiar with, and easy to understand without introducing \n",
    "any new concepts. This may be your first encounter with one of these cutesie model names -- VGG, ResNet, Inception, Inception-ResNet, \n",
    "Xception... you will get used to them, as they will come up frequently if you keep doing deep learning for computer vision.\n",
    "\n",
    "There are two ways to leverage a pre-trained network: *feature extraction* and *fine-tuning*. We will cover both of them. Let's start with \n",
    "feature extraction."
   ]
  },
  {
   "cell_type": "markdown",
   "metadata": {},
   "source": [
    "## Feature extraction\n",
    "\n",
    "Feature extraction consists of using the representations learned by a previous network to extract interesting features from new samples. \n",
    "These features are then run through a new classifier, which is trained from scratch.\n",
    "\n",
    "As we saw previously, convnets used for image classification comprise two parts: they start with a series of pooling and convolution \n",
    "layers, and they end with a densely-connected classifier. The first part is called the \"convolutional base\" of the model. In the case of \n",
    "convnets, \"feature extraction\" will simply consist of taking the convolutional base of a previously-trained network, running the new data \n",
    "through it, and training a new classifier on top of the output.\n",
    "\n",
    "![swapping FC classifiers](https://s3.amazonaws.com/book.keras.io/img/ch5/swapping_fc_classifier.png)\n",
    "\n",
    "Why only reuse the convolutional base? Could we reuse the densely-connected classifier as well? In general, it should be avoided. The \n",
    "reason is simply that the representations learned by the convolutional base are likely to be more generic and therefore more reusable: the \n",
    "feature maps of a convnet are presence maps of generic concepts over a picture, which is likely to be useful regardless of the computer \n",
    "vision problem at hand. On the other end, the representations learned by the classifier will necessarily be very specific to the set of \n",
    "classes that the model was trained on -- they will only contain information about the presence probability of this or that class in the \n",
    "entire picture. Additionally, representations found in densely-connected layers no longer contain any information about _where_ objects are \n",
    "located in the input image: these layers get rid of the notion of space, whereas the object location is still described by convolutional \n",
    "feature maps. For problems where object location matters, densely-connected features would be largely useless.\n",
    "\n",
    "Note that the level of generality (and therefore reusability) of the representations extracted by specific convolution layers depends on \n",
    "the depth of the layer in the model. Layers that come earlier in the model extract local, highly generic feature maps (such as visual \n",
    "edges, colors, and textures), while layers higher-up extract more abstract concepts (such as \"cat ear\" or \"dog eye\"). So if your new \n",
    "dataset differs a lot from the dataset that the original model was trained on, you may be better off using only the first few layers of the \n",
    "model to do feature extraction, rather than using the entire convolutional base.\n",
    "\n",
    "In our case, since the ImageNet class set did contain multiple dog and cat classes, it is likely that it would be beneficial to reuse the \n",
    "information contained in the densely-connected layers of the original model. However, we will chose not to, in order to cover the more \n",
    "general case where the class set of the new problem does not overlap with the class set of the original model."
   ]
  },
  {
   "cell_type": "markdown",
   "metadata": {},
   "source": [
    "Let's put this in practice by using the convolutional base of the VGG16 network, trained on ImageNet, to extract interesting features from \n",
    "our cat and dog images, and then training a cat vs. dog classifier on top of these features.\n",
    "\n",
    "The VGG16 model, among others, comes pre-packaged with Keras. You can import it from the `keras.applications` module. Here's the list of \n",
    "image classification models (all pre-trained on the ImageNet dataset) that are available as part of `keras.applications`:\n",
    "\n",
    "* Xception\n",
    "* InceptionV3\n",
    "* ResNet50\n",
    "* VGG16\n",
    "* VGG19\n",
    "* MobileNet\n",
    "\n",
    "Let's instantiate the VGG16 model:"
   ]
  },
  {
   "cell_type": "code",
   "execution_count": 90,
   "metadata": {
    "collapsed": true
   },
   "outputs": [],
   "source": [
    "# set base dir\n",
    "base_dir = '/Users/rchase/Documents/Ryan Chase Deloitte Files/M.S/PRED_590 - Masters Thesis/'\n",
    "model_weights_dir = '/Users/rchase/Documents/Ryan Chase Deloitte Files/M.S/PRED_590 - Masters Thesis/github_repo/Masters_Thesis/model_weights/'"
   ]
  },
  {
   "cell_type": "code",
   "execution_count": 4,
   "metadata": {
    "collapsed": true
   },
   "outputs": [],
   "source": [
    "import matplotlib.pyplot as plt"
   ]
  },
  {
   "cell_type": "code",
   "execution_count": 5,
   "metadata": {
    "collapsed": true
   },
   "outputs": [],
   "source": [
    "# import packages\n",
    "import numpy as np\n",
    "import os, sys\n",
    "from glob import glob\n",
    "from shutil import copyfile\n",
    "\n",
    "\"\"\"\n",
    "# copy some files to from validation dir to test dir\n",
    "\n",
    "# (RC: should these be completely unseen, though rather than copying from valid? Even though valid isn't used to train...)\n",
    "valid_dir_for_class = os.path.join(base_dir, 'Images/architecture_styles/valid/Denver_Squares/')\n",
    "\n",
    "os.chdir(valid_dir_for_class)\n",
    "# os.getcwd()\n",
    "# match files in the current working directory\n",
    "g = glob('*.jpg')\n",
    "shuf = np.random.permutation(g)\n",
    "# RC: this isn't working.  The glob object is an empty list and we're trying to do a random permutation of it which wouldn't make sense. \n",
    "for i in range(10): copyfile(valid_dir_for_class + shuf[i], base_dir+'Images/architecture_styles/test/hidden_classes/' + shuf[i])\n",
    "\"\"\""
   ]
  },
  {
   "cell_type": "code",
   "execution_count": 6,
   "metadata": {
    "collapsed": true
   },
   "outputs": [],
   "source": [
    "# import the VGG16 pretrained model\n",
    "from keras.applications import VGG16\n",
    "\n",
    "conv_base = VGG16(weights='imagenet',\n",
    "                  # do not include the top, fully-connected Dense layers (there are 3 fully-connected layers in VGG16)\n",
    "                  include_top=False,\n",
    "                  input_shape=(150, 150, 3))"
   ]
  },
  {
   "cell_type": "markdown",
   "metadata": {},
   "source": [
    "We passed three arguments to the constructor:\n",
    "\n",
    "* `weights`, to specify which weight checkpoint to initialize the model from\n",
    "* `include_top`, which refers to including or not the densely-connected classifier on top of the network. By default, this \n",
    "densely-connected classifier would correspond to the 1000 classes from ImageNet. Since we intend to use our own densely-connected \n",
    "classifier (with only two classes, cat and dog), we don't need to include it.\n",
    "* `input_shape`, the shape of the image tensors that we will feed to the network. This argument is purely optional: if we don't pass it, \n",
    "then the network will be able to process inputs of any size.\n",
    "\n",
    "Here's the detail of the architecture of the VGG16 convolutional base: it's very similar to the simple convnets that you are already \n",
    "familiar with."
   ]
  },
  {
   "cell_type": "code",
   "execution_count": 7,
   "metadata": {},
   "outputs": [
    {
     "name": "stdout",
     "output_type": "stream",
     "text": [
      "_________________________________________________________________\n",
      "Layer (type)                 Output Shape              Param #   \n",
      "=================================================================\n",
      "input_1 (InputLayer)         (None, 150, 150, 3)       0         \n",
      "_________________________________________________________________\n",
      "block1_conv1 (Conv2D)        (None, 150, 150, 64)      1792      \n",
      "_________________________________________________________________\n",
      "block1_conv2 (Conv2D)        (None, 150, 150, 64)      36928     \n",
      "_________________________________________________________________\n",
      "block1_pool (MaxPooling2D)   (None, 75, 75, 64)        0         \n",
      "_________________________________________________________________\n",
      "block2_conv1 (Conv2D)        (None, 75, 75, 128)       73856     \n",
      "_________________________________________________________________\n",
      "block2_conv2 (Conv2D)        (None, 75, 75, 128)       147584    \n",
      "_________________________________________________________________\n",
      "block2_pool (MaxPooling2D)   (None, 37, 37, 128)       0         \n",
      "_________________________________________________________________\n",
      "block3_conv1 (Conv2D)        (None, 37, 37, 256)       295168    \n",
      "_________________________________________________________________\n",
      "block3_conv2 (Conv2D)        (None, 37, 37, 256)       590080    \n",
      "_________________________________________________________________\n",
      "block3_conv3 (Conv2D)        (None, 37, 37, 256)       590080    \n",
      "_________________________________________________________________\n",
      "block3_pool (MaxPooling2D)   (None, 18, 18, 256)       0         \n",
      "_________________________________________________________________\n",
      "block4_conv1 (Conv2D)        (None, 18, 18, 512)       1180160   \n",
      "_________________________________________________________________\n",
      "block4_conv2 (Conv2D)        (None, 18, 18, 512)       2359808   \n",
      "_________________________________________________________________\n",
      "block4_conv3 (Conv2D)        (None, 18, 18, 512)       2359808   \n",
      "_________________________________________________________________\n",
      "block4_pool (MaxPooling2D)   (None, 9, 9, 512)         0         \n",
      "_________________________________________________________________\n",
      "block5_conv1 (Conv2D)        (None, 9, 9, 512)         2359808   \n",
      "_________________________________________________________________\n",
      "block5_conv2 (Conv2D)        (None, 9, 9, 512)         2359808   \n",
      "_________________________________________________________________\n",
      "block5_conv3 (Conv2D)        (None, 9, 9, 512)         2359808   \n",
      "_________________________________________________________________\n",
      "block5_pool (MaxPooling2D)   (None, 4, 4, 512)         0         \n",
      "=================================================================\n",
      "Total params: 14,714,688\n",
      "Trainable params: 14,714,688\n",
      "Non-trainable params: 0\n",
      "_________________________________________________________________\n"
     ]
    }
   ],
   "source": [
    "conv_base.summary()"
   ]
  },
  {
   "cell_type": "markdown",
   "metadata": {},
   "source": [
    "The final feature map has shape `(4, 4, 512)`. That's the feature on top of which we will stick a densely-connected classifier.\n",
    "\n",
    "At this point, there are two ways we could proceed: \n",
    "\n",
    "* Running the convolutional base over our dataset, recording its output to a Numpy array on disk, then using this data as input to a \n",
    "standalone densely-connected classifier similar to those you have seen in the first chapters of this book. This solution is very fast and \n",
    "cheap to run, because it only requires running the convolutional base once for every input image, and the convolutional base is by far the \n",
    "most expensive part of the pipeline. However, for the exact same reason, this technique would not allow us to leverage data augmentation at \n",
    "all.\n",
    "* Extending the model we have (`conv_base`) by adding `Dense` layers on top, and running the whole thing end-to-end on the input data. This \n",
    "allows us to use data augmentation, because every input image is going through the convolutional base every time it is seen by the model. \n",
    "However, for this same reason, this technique is far more expensive than the first one.\n",
    "\n",
    "We will cover both techniques. Let's walk through the code required to set-up the first one: recording the output of `conv_base` on our \n",
    "data and using these outputs as inputs to a new model.\n",
    "\n",
    "We will start by simply running instances of the previously-introduced `ImageDataGenerator` to extract images as Numpy arrays as well as \n",
    "their labels. We will extract features from these images simply by calling the `predict` method of the `conv_base` model."
   ]
  },
  {
   "cell_type": "code",
   "execution_count": 29,
   "metadata": {
    "scrolled": false
   },
   "outputs": [
    {
     "name": "stdout",
     "output_type": "stream",
     "text": [
      "Found 820 images belonging to 3 classes.\n",
      "Found 100 images belonging to 3 classes.\n",
      "Found 16 images belonging to 1 classes.\n"
     ]
    }
   ],
   "source": [
    "import os\n",
    "import numpy as np\n",
    "from keras.preprocessing.image import ImageDataGenerator\n",
    "\n",
    "train_dir = os.path.join(base_dir, 'Images/architecture_styles/train/')\n",
    "validation_dir = os.path.join(base_dir, 'Images/architecture_styles/valid/')\n",
    "test_dir = os.path.join(base_dir, 'Images/architecture_styles/test/')\n",
    "\n",
    "datagen = ImageDataGenerator(rescale=1./255)\n",
    "batch_size = 20\n",
    "\n",
    "# extract features of my images using the VGG16 pre-trained model\n",
    "def extract_features(directory, sample_count):\n",
    "    # the output of VGG16's convolutional base produces filter maps of shape (sample_count, 4, 4, 512)\n",
    "    features = np.zeros(shape=(sample_count, 4, 4, 512))\n",
    "    # make the shape of the second dimension of the label array 3 to account for our three classes\n",
    "    labels = np.zeros(shape=(sample_count,3))\n",
    "    # use flow_from_directory to take images from the training directory, re-size them, and create batches\n",
    "    generator = datagen.flow_from_directory( \n",
    "        directory,\n",
    "        target_size=(150, 150),\n",
    "        batch_size=batch_size,\n",
    "        # RC: set class_mode=categorical for 2D one-hot encoded labels (best for multi-class, as opposed to binary, sparse labels, etc.) \n",
    "        # https://keras.io/preprocessing/image/\n",
    "        class_mode='categorical')\n",
    "    # define the label map outside of the function\n",
    "    global label_map \n",
    "    global test_images_label_map\n",
    "    # populate label map (if class_mode='categorical' this will be our 2D one-hot encoded array)\n",
    "    # because I did not group the test images into separate directories for each class, I'm creating a separate label_map for these.\n",
    "    if directory[-5:-1]=='test':\n",
    "        test_images_label_map = generator.class_indices\n",
    "    else: \n",
    "        label_map = generator.class_indices\n",
    "    # Because we later want to be able to print the original image for the test set setting a condition for the test set to create a \n",
    "    # separate array for RC_raw_test_images\n",
    "    if directory[-5:-1]=='test':\n",
    "        # creating an array for the the raw test images to flow into - the dimensions of each of the images will be 150 x 150. \n",
    "        RC_raw_test_images = np.zeros(shape=(sample_count, 150, 150, 3))\n",
    "        \n",
    "    \n",
    "    i = 0\n",
    "    for inputs_batch, labels_batch in generator:\n",
    "        #print(type(inputs_batch[0]))\n",
    "        # print(inputs_batch)\n",
    "        \n",
    "        #RC: first I'm saving the raw images\n",
    "        if directory[-5:-1]=='test':\n",
    "            RC_raw_test_images[i * batch_size : (i + 1) * batch_size] = inputs_batch\n",
    "        \n",
    "        # use the .predict method to extract the features from the pre-trained model \"conv_base\"\n",
    "        features_batch = conv_base.predict(inputs_batch)\n",
    "        # print(features_batch.shape)\n",
    "        # print(type(features_batch))\n",
    "        # print(features_batch)\n",
    "        # save the result in the array we created above\n",
    "        #RC:REVIEW!\n",
    "        features[i * batch_size : (i + 1) * batch_size] = features_batch\n",
    "        # print(features.shape)\n",
    "        # print(type(features))\n",
    "        # print(labels_batch.shape)\n",
    "        labels[i * batch_size : (i + 1) * batch_size] = labels_batch\n",
    "        i += 1\n",
    "        if i * batch_size >= sample_count:\n",
    "            # Note that since generators yield data indefinitely in a loop,\n",
    "            # we `break` after every image has been seen once.\n",
    "            break\n",
    "    if directory[-5:-1]=='test':\n",
    "        return features, labels, RC_raw_test_images\n",
    "    else: \n",
    "        return features, labels\n",
    "\n",
    "\n",
    "train_features, train_labels = extract_features(train_dir, 820)\n",
    "validation_features, validation_labels = extract_features(validation_dir, 100)\n",
    "test_features, test_labels, RC_raw_test_images_to_print  = extract_features(test_dir, 16)"
   ]
  },
  {
   "cell_type": "code",
   "execution_count": 30,
   "metadata": {},
   "outputs": [
    {
     "data": {
      "text/plain": [
       "(16, 150, 150, 3)"
      ]
     },
     "execution_count": 30,
     "metadata": {},
     "output_type": "execute_result"
    }
   ],
   "source": [
    "RC_raw_test_images_to_print.shape"
   ]
  },
  {
   "cell_type": "code",
   "execution_count": 31,
   "metadata": {},
   "outputs": [
    {
     "data": {
      "text/plain": [
       "array([[0., 0., 1.],\n",
       "       [0., 0., 1.],\n",
       "       [0., 1., 0.],\n",
       "       ...,\n",
       "       [0., 1., 0.],\n",
       "       [1., 0., 0.],\n",
       "       [0., 0., 1.]])"
      ]
     },
     "execution_count": 31,
     "metadata": {},
     "output_type": "execute_result"
    }
   ],
   "source": [
    "# make sure the labels shape looks right\n",
    "train_labels"
   ]
  },
  {
   "cell_type": "code",
   "execution_count": 38,
   "metadata": {},
   "outputs": [
    {
     "data": {
      "text/plain": [
       "(100, 3)"
      ]
     },
     "execution_count": 38,
     "metadata": {},
     "output_type": "execute_result"
    }
   ],
   "source": [
    "# print the shape of the validation label array \n",
    "validation_labels.shape"
   ]
  },
  {
   "cell_type": "code",
   "execution_count": 32,
   "metadata": {},
   "outputs": [
    {
     "data": {
      "text/plain": [
       "{'Denver_Squares': 0, 'contemporary': 1, 'victorians': 2}"
      ]
     },
     "execution_count": 32,
     "metadata": {},
     "output_type": "execute_result"
    }
   ],
   "source": [
    "# print the labels_map\n",
    "label_map"
   ]
  },
  {
   "cell_type": "code",
   "execution_count": 34,
   "metadata": {},
   "outputs": [
    {
     "data": {
      "text/plain": [
       "{'hidden_classes': 0}"
      ]
     },
     "execution_count": 34,
     "metadata": {},
     "output_type": "execute_result"
    }
   ],
   "source": [
    "# print the labels_map associated with the test set\n",
    "test_images_label_map"
   ]
  },
  {
   "cell_type": "code",
   "execution_count": 35,
   "metadata": {},
   "outputs": [
    {
     "data": {
      "text/plain": [
       "(820, 4, 4, 512)"
      ]
     },
     "execution_count": 35,
     "metadata": {},
     "output_type": "execute_result"
    }
   ],
   "source": [
    "# print the shape of the extracted features (feature maps)\n",
    "train_features.shape"
   ]
  },
  {
   "cell_type": "code",
   "execution_count": 36,
   "metadata": {},
   "outputs": [
    {
     "data": {
      "text/plain": [
       "(100, 4, 4, 512)"
      ]
     },
     "execution_count": 36,
     "metadata": {},
     "output_type": "execute_result"
    }
   ],
   "source": [
    "validation_features.shape"
   ]
  },
  {
   "cell_type": "markdown",
   "metadata": {},
   "source": [
    "The extracted features are currently of shape `(samples, 4, 4, 512)`. We will feed them to a densely-connected classifier, so first we must \n",
    "flatten them to `(samples, 8192)`:"
   ]
  },
  {
   "cell_type": "code",
   "execution_count": 39,
   "metadata": {
    "collapsed": true
   },
   "outputs": [],
   "source": [
    "# flatten the features corresponding to each image before using them as an input to the fully-connected classifier \n",
    "train_features = np.reshape(train_features, (820, 4 * 4 * 512))\n",
    "validation_features = np.reshape(validation_features, (100, 4 * 4 * 512))\n",
    "#test_features = np.reshape(test_features, (1000, 4 * 4 * 512))\n",
    "#test_features = np.reshape(test_features, (100, 4 * 4 * 512))"
   ]
  },
  {
   "cell_type": "markdown",
   "metadata": {},
   "source": [
    "At this point, we can define our densely-connected classifier (note the use of dropout for regularization), and train it on the data and \n",
    "labels that we just recorded:"
   ]
  },
  {
   "cell_type": "code",
   "execution_count": 40,
   "metadata": {},
   "outputs": [
    {
     "name": "stdout",
     "output_type": "stream",
     "text": [
      "Train on 820 samples, validate on 100 samples\n",
      "Epoch 1/30\n",
      "820/820 [==============================] - 1s 2ms/step - loss: 1.0338 - acc: 0.4768 - val_loss: 0.8556 - val_acc: 0.6600\n",
      "Epoch 2/30\n",
      "820/820 [==============================] - 1s 1ms/step - loss: 0.8886 - acc: 0.5951 - val_loss: 0.7139 - val_acc: 0.7800\n",
      "Epoch 3/30\n",
      "820/820 [==============================] - 1s 1ms/step - loss: 0.7413 - acc: 0.6854 - val_loss: 0.5940 - val_acc: 0.8200\n",
      "Epoch 4/30\n",
      "820/820 [==============================] - 1s 2ms/step - loss: 0.6172 - acc: 0.7671 - val_loss: 0.5271 - val_acc: 0.8200\n",
      "Epoch 5/30\n",
      "820/820 [==============================] - 1s 1ms/step - loss: 0.5255 - acc: 0.8183 - val_loss: 0.4535 - val_acc: 0.8600\n",
      "Epoch 6/30\n",
      "820/820 [==============================] - 1s 1ms/step - loss: 0.4620 - acc: 0.8439 - val_loss: 0.4195 - val_acc: 0.8500\n",
      "Epoch 7/30\n",
      "820/820 [==============================] - 1s 1ms/step - loss: 0.4137 - acc: 0.8610 - val_loss: 0.4040 - val_acc: 0.8700\n",
      "Epoch 8/30\n",
      "820/820 [==============================] - 1s 1ms/step - loss: 0.3795 - acc: 0.8683 - val_loss: 0.3577 - val_acc: 0.8800\n",
      "Epoch 9/30\n",
      "820/820 [==============================] - 1s 1ms/step - loss: 0.3312 - acc: 0.9037 - val_loss: 0.3725 - val_acc: 0.8400\n",
      "Epoch 10/30\n",
      "820/820 [==============================] - 1s 1ms/step - loss: 0.3188 - acc: 0.8963 - val_loss: 0.3208 - val_acc: 0.8800\n",
      "Epoch 11/30\n",
      "820/820 [==============================] - 1s 1ms/step - loss: 0.3147 - acc: 0.8902 - val_loss: 0.3064 - val_acc: 0.8900\n",
      "Epoch 12/30\n",
      "820/820 [==============================] - 1s 1ms/step - loss: 0.2735 - acc: 0.9146 - val_loss: 0.3188 - val_acc: 0.9000\n",
      "Epoch 13/30\n",
      "820/820 [==============================] - 1s 1ms/step - loss: 0.2433 - acc: 0.9280 - val_loss: 0.2767 - val_acc: 0.9100\n",
      "Epoch 14/30\n",
      "820/820 [==============================] - 1s 2ms/step - loss: 0.2250 - acc: 0.9354 - val_loss: 0.2654 - val_acc: 0.9300\n",
      "Epoch 15/30\n",
      "820/820 [==============================] - 1s 2ms/step - loss: 0.2234 - acc: 0.9244 - val_loss: 0.2848 - val_acc: 0.8900\n",
      "Epoch 16/30\n",
      "820/820 [==============================] - 1s 2ms/step - loss: 0.2084 - acc: 0.9354 - val_loss: 0.2456 - val_acc: 0.9400\n",
      "Epoch 17/30\n",
      "820/820 [==============================] - 1s 2ms/step - loss: 0.1987 - acc: 0.9463 - val_loss: 0.2393 - val_acc: 0.9300\n",
      "Epoch 18/30\n",
      "820/820 [==============================] - 1s 1ms/step - loss: 0.1906 - acc: 0.9439 - val_loss: 0.2469 - val_acc: 0.9200\n",
      "Epoch 19/30\n",
      "820/820 [==============================] - 1s 2ms/step - loss: 0.1791 - acc: 0.9524 - val_loss: 0.2376 - val_acc: 0.9300\n",
      "Epoch 20/30\n",
      "820/820 [==============================] - 1s 1ms/step - loss: 0.1627 - acc: 0.9561 - val_loss: 0.2206 - val_acc: 0.9400\n",
      "Epoch 21/30\n",
      "820/820 [==============================] - 1s 1ms/step - loss: 0.1568 - acc: 0.9573 - val_loss: 0.2172 - val_acc: 0.9200\n",
      "Epoch 22/30\n",
      "820/820 [==============================] - 1s 1ms/step - loss: 0.1418 - acc: 0.9585 - val_loss: 0.2215 - val_acc: 0.9200\n",
      "Epoch 23/30\n",
      "820/820 [==============================] - 1s 1ms/step - loss: 0.1574 - acc: 0.9524 - val_loss: 0.2053 - val_acc: 0.9400\n",
      "Epoch 24/30\n",
      "820/820 [==============================] - 1s 1ms/step - loss: 0.1257 - acc: 0.9671 - val_loss: 0.2036 - val_acc: 0.9300\n",
      "Epoch 25/30\n",
      "820/820 [==============================] - 1s 2ms/step - loss: 0.1215 - acc: 0.9659 - val_loss: 0.1919 - val_acc: 0.9400\n",
      "Epoch 26/30\n",
      "820/820 [==============================] - 1s 1ms/step - loss: 0.1191 - acc: 0.9695 - val_loss: 0.1865 - val_acc: 0.9500\n",
      "Epoch 27/30\n",
      "820/820 [==============================] - 1s 2ms/step - loss: 0.1070 - acc: 0.9756 - val_loss: 0.1887 - val_acc: 0.9300\n",
      "Epoch 28/30\n",
      "820/820 [==============================] - 1s 2ms/step - loss: 0.1048 - acc: 0.9732 - val_loss: 0.1853 - val_acc: 0.9400\n",
      "Epoch 29/30\n",
      "820/820 [==============================] - 1s 2ms/step - loss: 0.1025 - acc: 0.9744 - val_loss: 0.1880 - val_acc: 0.9300\n",
      "Epoch 30/30\n",
      "820/820 [==============================] - 1s 2ms/step - loss: 0.1039 - acc: 0.9732 - val_loss: 0.1791 - val_acc: 0.9400\n"
     ]
    }
   ],
   "source": [
    "from keras import models\n",
    "from keras import layers\n",
    "from keras import optimizers\n",
    "\n",
    "model = models.Sequential()\n",
    "#RC where does the 256 come from?? I know it's the number of hidden units but is it specific to something?\n",
    "model.add(layers.Dense(256, activation='relu', input_dim=4 * 4 * 512))\n",
    "model.add(layers.Dropout(0.5))\n",
    "# set the first argument of layers.Dense so that it outputs probabilities for three classes\n",
    "model.add(layers.Dense(3, activation='sigmoid'))\n",
    "\n",
    "model.compile(optimizer=optimizers.RMSprop(lr=2e-5),\n",
    "              # set the loss='categorical_crossentropy' if my labels are one-hot coded (i.e. if class_mode=categorical in datagen)\n",
    "              loss='categorical_crossentropy',\n",
    "              metrics=['acc'])\n",
    "\n",
    "history = model.fit(train_features, train_labels,\n",
    "                    epochs=30,\n",
    "                    batch_size=20,\n",
    "                    validation_data=(validation_features, validation_labels))"
   ]
  },
  {
   "cell_type": "code",
   "execution_count": 41,
   "metadata": {},
   "outputs": [
    {
     "name": "stdout",
     "output_type": "stream",
     "text": [
      "_________________________________________________________________\n",
      "Layer (type)                 Output Shape              Param #   \n",
      "=================================================================\n",
      "dense_1 (Dense)              (None, 256)               2097408   \n",
      "_________________________________________________________________\n",
      "dropout_1 (Dropout)          (None, 256)               0         \n",
      "_________________________________________________________________\n",
      "dense_2 (Dense)              (None, 3)                 771       \n",
      "=================================================================\n",
      "Total params: 2,098,179\n",
      "Trainable params: 2,098,179\n",
      "Non-trainable params: 0\n",
      "_________________________________________________________________\n"
     ]
    }
   ],
   "source": [
    "model.summary()"
   ]
  },
  {
   "cell_type": "markdown",
   "metadata": {},
   "source": [
    "Training is very fast, since we only have to deal with two `Dense` layers -- an epoch takes less than one second even on CPU.\n",
    "\n",
    "Let's take a look at the loss and accuracy curves during training:"
   ]
  },
  {
   "cell_type": "code",
   "execution_count": 42,
   "metadata": {},
   "outputs": [
    {
     "data": {
      "image/png": "[encoded data removed]",
      "text/plain": [
       "<matplotlib.figure.Figure at 0x10e4f6278>"
      ]
     },
     "metadata": {},
     "output_type": "display_data"
    },
    {
     "data": {
      "image/png": "[encoded data removed]",
      "text/plain": [
       "<matplotlib.figure.Figure at 0x10e9fc4a8>"
      ]
     },
     "metadata": {},
     "output_type": "display_data"
    }
   ],
   "source": [
    "import matplotlib.pyplot as plt\n",
    "\n",
    "acc = history.history['acc']\n",
    "val_acc = history.history['val_acc']\n",
    "loss = history.history['loss']\n",
    "val_loss = history.history['val_loss']\n",
    "\n",
    "epochs = range(len(acc))\n",
    "\n",
    "plt.plot(epochs, acc, 'bo', label='Training acc')\n",
    "plt.plot(epochs, val_acc, 'b', label='Validation acc')\n",
    "plt.title('Training and validation accuracy')\n",
    "plt.legend()\n",
    "\n",
    "plt.figure()\n",
    "\n",
    "plt.plot(epochs, loss, 'bo', label='Training loss')\n",
    "plt.plot(epochs, val_loss, 'b', label='Validation loss')\n",
    "plt.title('Training and validation loss')\n",
    "plt.legend()\n",
    "\n",
    "plt.show()"
   ]
  },
  {
   "cell_type": "code",
   "execution_count": 43,
   "metadata": {
    "collapsed": true
   },
   "outputs": [],
   "source": [
    "# save model weights\n",
    "model.save_weights('/Users/rchase/Documents/Ryan Chase Deloitte Files/M.S/PRED_590 - Masters Thesis/github_repo/Masters_Thesis/model_weights/'+'weights_for_vgg_model_with_new_fully_connected_layer')"
   ]
  },
  {
   "cell_type": "code",
   "execution_count": 8,
   "metadata": {},
   "outputs": [
    {
     "name": "stdout",
     "output_type": "stream",
     "text": [
      "Found 16 images belonging to 1 classes.\n",
      "<class 'numpy.ndarray'>\n",
      "[[[[0.654902   0.7607844  0.93725497]\n",
      "   [0.5568628  0.654902   0.86666673]\n",
      "   [0.65882355 0.77647066 1.        ]\n",
      "   ...\n",
      "   [0.21568629 0.21568629 0.20784315]\n",
      "   [0.20392159 0.21568629 0.14117648]\n",
      "   [0.3647059  0.38823533 0.2784314 ]]\n",
      "\n",
      "  [[0.63529414 0.7411765  0.9176471 ]\n",
      "   [0.6392157  0.7372549  0.9490197 ]\n",
      "   [0.57254905 0.6901961  0.92549026]\n",
      "   ...\n",
      "   [0.15686275 0.20000002 0.21568629]\n",
      "   [0.         0.03529412 0.        ]\n",
      "   [0.3921569  0.42352945 0.27058825]]\n",
      "\n",
      "  [[0.6392157  0.74509805 0.9215687 ]\n",
      "   [0.6313726  0.7294118  0.94117653]\n",
      "   [0.4901961  0.60784316 0.8431373 ]\n",
      "   ...\n",
      "   [0.38431376 0.41176474 0.48627454]\n",
      "   [0.33333334 0.3803922  0.3254902 ]\n",
      "   [0.17254902 0.20392159 0.05882353]]\n",
      "\n",
      "  ...\n",
      "\n",
      "  [[0.6666667  0.49803925 0.47058827]\n",
      "   [0.70980394 0.5764706  0.57254905]\n",
      "   [0.64705884 0.47058827 0.48235297]\n",
      "   ...\n",
      "   [0.7960785  0.56078434 0.5568628 ]\n",
      "   [0.6745098  0.45098042 0.4156863 ]\n",
      "   [0.75294125 0.47058827 0.4156863 ]]\n",
      "\n",
      "  [[0.59607846 0.4901961  0.44705886]\n",
      "   [0.8000001  0.6666667  0.627451  ]\n",
      "   [0.82745105 0.5019608  0.4784314 ]\n",
      "   ...\n",
      "   [0.7803922  0.5411765  0.47058827]\n",
      "   [0.6627451  0.46274513 0.35686275]\n",
      "   [0.6784314  0.454902   0.38823533]]\n",
      "\n",
      "  [[0.8078432  0.654902   0.59607846]\n",
      "   [0.8313726  0.6        0.5294118 ]\n",
      "   [0.8862746  0.6        0.46274513]\n",
      "   ...\n",
      "   [0.627451   0.56078434 0.4901961 ]\n",
      "   [0.7294118  0.7137255  0.6       ]\n",
      "   [0.6784314  0.5921569  0.49803925]]]\n",
      "\n",
      "\n",
      " [[[0.45098042 0.45098042 0.45098042]\n",
      "   [0.44705886 0.44705886 0.44705886]\n",
      "   [0.45098042 0.45098042 0.45098042]\n",
      "   ...\n",
      "   [0.40784317 0.40784317 0.40784317]\n",
      "   [0.42352945 0.42352945 0.42352945]\n",
      "   [0.44705886 0.44705886 0.44705886]]\n",
      "\n",
      "  [[0.454902   0.454902   0.454902  ]\n",
      "   [0.45098042 0.45098042 0.45098042]\n",
      "   [0.454902   0.454902   0.454902  ]\n",
      "   ...\n",
      "   [0.44705886 0.44705886 0.44705886]\n",
      "   [0.43529415 0.43529415 0.43529415]\n",
      "   [0.46274513 0.46274513 0.46274513]]\n",
      "\n",
      "  [[0.45882356 0.45882356 0.45882356]\n",
      "   [0.45098042 0.45098042 0.45098042]\n",
      "   [0.45882356 0.45882356 0.45882356]\n",
      "   ...\n",
      "   [0.4431373  0.4431373  0.4431373 ]\n",
      "   [0.42352945 0.42352945 0.42352945]\n",
      "   [0.41960788 0.41960788 0.41960788]]\n",
      "\n",
      "  ...\n",
      "\n",
      "  [[0.21568629 0.21568629 0.21568629]\n",
      "   [0.07843138 0.07843138 0.07843138]\n",
      "   [0.02352941 0.02352941 0.02352941]\n",
      "   ...\n",
      "   [0.0509804  0.0509804  0.0509804 ]\n",
      "   [0.05882353 0.05882353 0.05882353]\n",
      "   [0.06666667 0.06666667 0.06666667]]\n",
      "\n",
      "  [[0.49803925 0.49803925 0.49803925]\n",
      "   [0.40784317 0.40784317 0.40784317]\n",
      "   [0.41176474 0.41176474 0.41176474]\n",
      "   ...\n",
      "   [0.05882353 0.05882353 0.05882353]\n",
      "   [0.05490196 0.05490196 0.05490196]\n",
      "   [0.05490196 0.05490196 0.05490196]]\n",
      "\n",
      "  [[0.42352945 0.42352945 0.42352945]\n",
      "   [0.38823533 0.38823533 0.38823533]\n",
      "   [0.32156864 0.32156864 0.32156864]\n",
      "   ...\n",
      "   [0.07843138 0.07843138 0.07843138]\n",
      "   [0.06666667 0.06666667 0.06666667]\n",
      "   [0.03921569 0.03921569 0.03921569]]]\n",
      "\n",
      "\n",
      " [[[0.8313726  0.8235295  0.8431373 ]\n",
      "   [0.9921569  0.9843138  1.        ]\n",
      "   [0.9803922  0.9725491  0.9843138 ]\n",
      "   ...\n",
      "   [0.9960785  0.9960785  0.9960785 ]\n",
      "   [1.         1.         1.        ]\n",
      "   [1.         1.         1.        ]]\n",
      "\n",
      "  [[0.9960785  0.9843138  1.        ]\n",
      "   [0.8941177  0.8862746  0.9058824 ]\n",
      "   [0.9568628  0.9490197  0.9607844 ]\n",
      "   ...\n",
      "   [0.9960785  0.9960785  0.9960785 ]\n",
      "   [1.         1.         1.        ]\n",
      "   [1.         1.         1.        ]]\n",
      "\n",
      "  [[0.9686275  0.9568628  0.9843138 ]\n",
      "   [0.9960785  0.98823535 1.        ]\n",
      "   [0.8470589  0.83921576 0.85098046]\n",
      "   ...\n",
      "   [0.9960785  0.9960785  0.9960785 ]\n",
      "   [1.         1.         1.        ]\n",
      "   [1.         1.         1.        ]]\n",
      "\n",
      "  ...\n",
      "\n",
      "  [[0.20784315 0.21176472 0.18039216]\n",
      "   [0.20392159 0.20784315 0.1764706 ]\n",
      "   [0.20784315 0.21176472 0.18039216]\n",
      "   ...\n",
      "   [0.227451   0.23529413 0.18431373]\n",
      "   [0.23137257 0.2392157  0.18823531]\n",
      "   [0.23529413 0.24313727 0.20000002]]\n",
      "\n",
      "  [[0.21568629 0.21960786 0.19607845]\n",
      "   [0.21568629 0.21960786 0.19607845]\n",
      "   [0.21176472 0.21568629 0.19215688]\n",
      "   ...\n",
      "   [0.227451   0.23529413 0.18431373]\n",
      "   [0.2392157  0.24705884 0.19607845]\n",
      "   [0.23529413 0.2509804  0.19607845]]\n",
      "\n",
      "  [[0.21176472 0.21568629 0.19607845]\n",
      "   [0.21176472 0.21568629 0.19215688]\n",
      "   [0.19607845 0.20000002 0.1764706 ]\n",
      "   ...\n",
      "   [0.20784315 0.22352943 0.16862746]\n",
      "   [0.21568629 0.23137257 0.1764706 ]\n",
      "   [0.20000002 0.22352943 0.16862746]]]\n",
      "\n",
      "\n",
      " ...\n",
      "\n",
      "\n",
      " [[[0.8470589  0.86274517 0.8980393 ]\n",
      "   [0.86274517 0.87843144 0.91372555]\n",
      "   [0.8588236  0.8745099  0.909804  ]\n",
      "   ...\n",
      "   [0.8980393  0.909804   0.9294118 ]\n",
      "   [0.8980393  0.9176471  0.9333334 ]\n",
      "   [0.8980393  0.9176471  0.9333334 ]]\n",
      "\n",
      "  [[0.8431373  0.8588236  0.8941177 ]\n",
      "   [0.8588236  0.8745099  0.909804  ]\n",
      "   [0.854902   0.8705883  0.9058824 ]\n",
      "   ...\n",
      "   [0.90196085 0.91372555 0.9333334 ]\n",
      "   [0.8980393  0.9176471  0.9333334 ]\n",
      "   [0.8980393  0.9176471  0.9333334 ]]\n",
      "\n",
      "  [[0.83921576 0.854902   0.89019614]\n",
      "   [0.854902   0.8705883  0.9058824 ]\n",
      "   [0.85098046 0.86666673 0.90196085]\n",
      "   ...\n",
      "   [0.9058824  0.9176471  0.93725497]\n",
      "   [0.8980393  0.9176471  0.9333334 ]\n",
      "   [0.8980393  0.9176471  0.9333334 ]]\n",
      "\n",
      "  ...\n",
      "\n",
      "  [[0.5176471  0.40784317 0.36078432]\n",
      "   [0.3921569  0.3019608  0.2392157 ]\n",
      "   [0.40784317 0.30980393 0.23137257]\n",
      "   ...\n",
      "   [0.33333334 0.27450982 0.12156864]\n",
      "   [0.39607847 0.34901962 0.2627451 ]\n",
      "   [0.25490198 0.18431373 0.09803922]]\n",
      "\n",
      "  [[0.41960788 0.31764707 0.26666668]\n",
      "   [0.33333334 0.2509804  0.18431373]\n",
      "   [0.30588236 0.21568629 0.14509805]\n",
      "   ...\n",
      "   [0.23137257 0.16862746 0.03921569]\n",
      "   [0.27058825 0.23529413 0.07450981]\n",
      "   [0.35686275 0.29803923 0.13725491]]\n",
      "\n",
      "  [[0.5019608  0.40784317 0.36078432]\n",
      "   [0.5882353  0.52156866 0.45882356]\n",
      "   [0.5764706  0.5019608  0.43529415]\n",
      "   ...\n",
      "   [0.29803923 0.23137257 0.12156864]\n",
      "   [0.39607847 0.36078432 0.20784315]\n",
      "   [0.35686275 0.29803923 0.14509805]]]\n",
      "\n",
      "\n",
      " [[[0.2627451  0.59607846 0.909804  ]\n",
      "   [0.2627451  0.59607846 0.909804  ]\n",
      "   [0.2627451  0.59607846 0.909804  ]\n",
      "   ...\n",
      "   [0.21960786 0.6        0.9176471 ]\n",
      "   [0.21960786 0.6        0.9176471 ]\n",
      "   [0.22352943 0.6039216  0.9215687 ]]\n",
      "\n",
      "  [[0.2627451  0.59607846 0.909804  ]\n",
      "   [0.2627451  0.59607846 0.909804  ]\n",
      "   [0.2627451  0.59607846 0.909804  ]\n",
      "   ...\n",
      "   [0.22352943 0.6039216  0.9215687 ]\n",
      "   [0.21960786 0.6        0.9176471 ]\n",
      "   [0.21960786 0.6        0.9176471 ]]\n",
      "\n",
      "  [[0.2627451  0.59607846 0.909804  ]\n",
      "   [0.26666668 0.6        0.91372555]\n",
      "   [0.26666668 0.6        0.91372555]\n",
      "   ...\n",
      "   [0.21176472 0.6        0.92549026]\n",
      "   [0.21960786 0.59607846 0.92549026]\n",
      "   [0.21960786 0.59607846 0.92549026]]\n",
      "\n",
      "  ...\n",
      "\n",
      "  [[0.75294125 0.7058824  0.65882355]\n",
      "   [0.75294125 0.7058824  0.65882355]\n",
      "   [0.7411765  0.6862745  0.6431373 ]\n",
      "   ...\n",
      "   [0.81568635 0.8000001  0.76470596]\n",
      "   [0.8117648  0.7843138  0.75294125]\n",
      "   [0.82745105 0.79215693 0.76470596]]\n",
      "\n",
      "  [[0.7176471  0.67058825 0.6156863 ]\n",
      "   [0.7294118  0.6745098  0.62352943]\n",
      "   [0.7137255  0.65882355 0.60784316]\n",
      "   ...\n",
      "   [0.8078432  0.7803922  0.7490196 ]\n",
      "   [0.8117648  0.7843138  0.75294125]\n",
      "   [0.8078432  0.7803922  0.7490196 ]]\n",
      "\n",
      "  [[0.7137255  0.65882355 0.60784316]\n",
      "   [0.72156864 0.6666667  0.6156863 ]\n",
      "   [0.7372549  0.68235296 0.6313726 ]\n",
      "   ...\n",
      "   [0.8000001  0.7725491  0.7411765 ]\n",
      "   [0.8000001  0.7725491  0.7411765 ]\n",
      "   [0.80392164 0.77647066 0.74509805]]]\n",
      "\n",
      "\n",
      " [[[0.9960785  1.         0.9921569 ]\n",
      "   [1.         1.         1.        ]\n",
      "   [1.         1.         1.        ]\n",
      "   ...\n",
      "   [0.89019614 0.90196085 0.9215687 ]\n",
      "   [0.9294118  0.9490197  1.        ]\n",
      "   [0.9725491  0.9843138  1.        ]]\n",
      "\n",
      "  [[0.9176471  0.9294118  0.9568628 ]\n",
      "   [1.         1.         1.        ]\n",
      "   [1.         1.         0.9843138 ]\n",
      "   ...\n",
      "   [0.8117648  0.8078432  0.86274517]\n",
      "   [0.9803922  1.         1.        ]\n",
      "   [0.9294118  0.9490197  0.9607844 ]]\n",
      "\n",
      "  [[0.9960785  1.         1.        ]\n",
      "   [0.86274517 0.86274517 0.8941177 ]\n",
      "   [0.9725491  0.9843138  1.        ]\n",
      "   ...\n",
      "   [0.8745099  0.882353   0.9294118 ]\n",
      "   [0.86666673 0.8745099  0.9333334 ]\n",
      "   [0.9843138  1.         0.9960785 ]]\n",
      "\n",
      "  ...\n",
      "\n",
      "  [[0.4666667  0.56078434 0.35686275]\n",
      "   [0.5647059  0.6509804  0.45882356]\n",
      "   [0.5019608  0.5921569  0.38823533]\n",
      "   ...\n",
      "   [0.34117648 0.40784317 0.19607845]\n",
      "   [0.40000004 0.49411768 0.2509804 ]\n",
      "   [0.33333334 0.47450984 0.19215688]]\n",
      "\n",
      "  [[0.39607847 0.41176474 0.30588236]\n",
      "   [0.43137258 0.4666667  0.34509805]\n",
      "   [0.3254902  0.3803922  0.2392157 ]\n",
      "   ...\n",
      "   [0.43529415 0.4666667  0.28235295]\n",
      "   [0.40784317 0.53333336 0.24705884]\n",
      "   [0.3529412  0.48235297 0.13333334]]\n",
      "\n",
      "  [[0.3019608  0.2627451  0.22352943]\n",
      "   [0.30980393 0.3019608  0.2509804 ]\n",
      "   [0.32941177 0.3254902  0.25490198]\n",
      "   ...\n",
      "   [0.33333334 0.3921569  0.16078432]\n",
      "   [0.47058827 0.54901963 0.31764707]\n",
      "   [0.34509805 0.48235297 0.12941177]]]]\n"
     ]
    }
   ],
   "source": [
    "# Now I just want to print my predictions\n",
    "# We first need to pipe my new image through the conv_base to get the features which are inputs to my model \n",
    "# Note that the shape is also important since the last layer of the conv_base block5_pool produces an output \n",
    "# of shape (None, 4, 4, 512)).  Then we'll actually convert this to a two-dimensional array of shape (None, 4 * 4 * 512)) \n",
    "# This will be the input for the first fully connected layer. \n",
    "\n",
    "# https://stackoverflow.com/questions/43469281/how-to-predict-input-image-using-trained-model-in-keras\n",
    "\n",
    " \n",
    "# RC: I needed to find out what shape the argument to conv_base.predict() is (i.e. inputs_batch which are the elements of generator)\n",
    "# since I needed to supply my test images to the conv_base.predict() in the same fashion as previously so that they could run through \n",
    "# the base model and output the feature weights which I need to then supply to my new fully connected model.  It turns out that inputs_batch in \n",
    "# generator from flow_from_directory is a 2 dimensional tuple.  Both the first and second elements (0 and 1 indexed items) are ndarrays.  \n",
    "# The shape of the first ndarray is (1, 150, 150, 3).  The shape of the second ndarray is (1,1) where the first element is just: [1.].  \n",
    "# The second element is nothing.  "
   ]
  },
  {
   "cell_type": "code",
   "execution_count": 48,
   "metadata": {
    "collapsed": true
   },
   "outputs": [],
   "source": [
    "# To load the model again (in case this is the starting point) we need to re-build our existing model using the saved weights: \n",
    "\n",
    "trained_weights_dir = os.path.join(base_dir, 'github_repo/Masters_Thesis/model_weights/')\n",
    "\n",
    "import os\n",
    "import numpy as np\n",
    "from keras.preprocessing.image import ImageDataGenerator\n",
    "from keras import models\n",
    "from keras import layers\n",
    "from keras import optimizers\n",
    "\n",
    "# function to rebuild the model:\n",
    "def rebuild_my_model():\n",
    "    model = models.Sequential()\n",
    "    #RC: where does the 256 come from? I know it's the number of hidden units but is it specific to something?\n",
    "    model.add(layers.Dense(256, activation='relu', input_dim=4 * 4 * 512))\n",
    "    model.add(layers.Dropout(0.5))\n",
    "    #RC: changed the below so that the dense layer outputs probabilities for three classes\n",
    "    #RC: changed activation='sigmoid' to activation='softmax'\n",
    "    model.add(layers.Dense(3, activation='softmax'))\n",
    "    \n",
    "    model.compile(optimizer=optimizers.RMSprop(lr=2e-5),\n",
    "    # change the loss to categorical_crossentropy for my multi-class problem\n",
    "    loss='categorical_crossentropy',\n",
    "    metrics=['acc'])\n",
    "    return model"
   ]
  },
  {
   "cell_type": "code",
   "execution_count": 50,
   "metadata": {
    "collapsed": true
   },
   "outputs": [],
   "source": [
    "# save the re-built model as \"model\"\n",
    "model = rebuild_my_model()"
   ]
  },
  {
   "cell_type": "code",
   "execution_count": 51,
   "metadata": {},
   "outputs": [
    {
     "name": "stdout",
     "output_type": "stream",
     "text": [
      "<keras.models.Sequential object at 0x10ea48dd8>\n"
     ]
    }
   ],
   "source": [
    "# print model object\n",
    "print(model)"
   ]
  },
  {
   "cell_type": "code",
   "execution_count": 52,
   "metadata": {},
   "outputs": [
    {
     "name": "stdout",
     "output_type": "stream",
     "text": [
      "_________________________________________________________________\n",
      "Layer (type)                 Output Shape              Param #   \n",
      "=================================================================\n",
      "dense_3 (Dense)              (None, 256)               2097408   \n",
      "_________________________________________________________________\n",
      "dropout_2 (Dropout)          (None, 256)               0         \n",
      "_________________________________________________________________\n",
      "dense_4 (Dense)              (None, 3)                 771       \n",
      "=================================================================\n",
      "Total params: 2,098,179\n",
      "Trainable params: 2,098,179\n",
      "Non-trainable params: 0\n",
      "_________________________________________________________________\n"
     ]
    }
   ],
   "source": [
    "model.summary()"
   ]
  },
  {
   "cell_type": "code",
   "execution_count": 53,
   "metadata": {},
   "outputs": [
    {
     "data": {
      "text/plain": [
       "'/Users/rchase/Documents/Ryan Chase Deloitte Files/M.S/PRED_590 - Masters Thesis/github_repo/Masters_Thesis/model_weights/'"
      ]
     },
     "execution_count": 53,
     "metadata": {},
     "output_type": "execute_result"
    }
   ],
   "source": [
    "trained_weights_dir"
   ]
  },
  {
   "cell_type": "code",
   "execution_count": 54,
   "metadata": {
    "collapsed": true
   },
   "outputs": [],
   "source": [
    "model.load_weights(trained_weights_dir + 'weights_for_vgg_model_with_new_fully_connected_layer')"
   ]
  },
  {
   "cell_type": "code",
   "execution_count": 55,
   "metadata": {},
   "outputs": [
    {
     "data": {
      "text/plain": [
       "(16, 4, 4, 512)"
      ]
     },
     "execution_count": 55,
     "metadata": {},
     "output_type": "execute_result"
    }
   ],
   "source": [
    "test_features.shape"
   ]
  },
  {
   "cell_type": "code",
   "execution_count": 57,
   "metadata": {},
   "outputs": [],
   "source": [
    "# RC: reshape my feature tensor...\n",
    "# RC: do I really have to flatten this out in order to use model.predict?  In 3.4.5 Chollet just feeds x_test to predict and xtest wasn't flattened... \n",
    "img_tensor = np.reshape(test_features, (16, 4 * 4 * 512))"
   ]
  },
  {
   "cell_type": "code",
   "execution_count": 58,
   "metadata": {},
   "outputs": [
    {
     "data": {
      "text/plain": [
       "(16, 8192)"
      ]
     },
     "execution_count": 58,
     "metadata": {},
     "output_type": "execute_result"
    }
   ],
   "source": [
    "img_tensor.shape"
   ]
  },
  {
   "cell_type": "code",
   "execution_count": 59,
   "metadata": {},
   "outputs": [
    {
     "name": "stdout",
     "output_type": "stream",
     "text": [
      "_________________________________________________________________\n",
      "Layer (type)                 Output Shape              Param #   \n",
      "=================================================================\n",
      "dense_3 (Dense)              (None, 256)               2097408   \n",
      "_________________________________________________________________\n",
      "dropout_2 (Dropout)          (None, 256)               0         \n",
      "_________________________________________________________________\n",
      "dense_4 (Dense)              (None, 3)                 771       \n",
      "=================================================================\n",
      "Total params: 2,098,179\n",
      "Trainable params: 2,098,179\n",
      "Non-trainable params: 0\n",
      "_________________________________________________________________\n"
     ]
    }
   ],
   "source": [
    "model.summary()"
   ]
  },
  {
   "cell_type": "code",
   "execution_count": 60,
   "metadata": {
    "collapsed": true
   },
   "outputs": [],
   "source": [
    "results = model.predict(img_tensor)"
   ]
  },
  {
   "cell_type": "code",
   "execution_count": 62,
   "metadata": {
    "collapsed": true
   },
   "outputs": [],
   "source": [
    "results_classes = model.predict_classes(img_tensor)"
   ]
  },
  {
   "cell_type": "code",
   "execution_count": 61,
   "metadata": {
    "scrolled": true
   },
   "outputs": [
    {
     "name": "stdout",
     "output_type": "stream",
     "text": [
      "[[1.1338372e-01 3.3676171e-01 5.4985458e-01]\n",
      " [6.8999177e-01 2.2262366e-01 8.7384574e-02]\n",
      " [9.3662673e-01 1.8303024e-02 4.5070287e-02]\n",
      " [2.4894133e-02 9.7321045e-01 1.8953106e-03]\n",
      " [1.8243849e-01 7.6338304e-03 8.0992770e-01]\n",
      " [2.4477670e-02 1.6074728e-02 9.5944762e-01]\n",
      " [5.4026205e-02 9.1491932e-01 3.1054463e-02]\n",
      " [9.3778920e-01 2.4448006e-04 6.1966304e-02]\n",
      " [9.9645245e-01 1.2671268e-03 2.2804628e-03]\n",
      " [1.7960910e-01 7.9411685e-01 2.6274098e-02]\n",
      " [9.3846446e-01 4.5598302e-02 1.5937334e-02]\n",
      " [8.3641982e-01 4.2059634e-02 1.2152057e-01]\n",
      " [1.7896672e-01 3.2053750e-02 7.8897953e-01]\n",
      " [4.8041469e-01 3.9131891e-02 4.8045340e-01]\n",
      " [9.7059220e-01 1.6340144e-02 1.3067716e-02]\n",
      " [9.3617278e-01 1.1729170e-02 5.2097958e-02]]\n"
     ]
    }
   ],
   "source": [
    "# RC: what do these numbers represent?\n",
    "print(results)"
   ]
  },
  {
   "cell_type": "code",
   "execution_count": 63,
   "metadata": {},
   "outputs": [
    {
     "data": {
      "text/plain": [
       "array([2, 0, 0, 1, 2, 2, 1, 0, 0, 1, 0, 0, 2, 2, 0, 0])"
      ]
     },
     "execution_count": 63,
     "metadata": {},
     "output_type": "execute_result"
    }
   ],
   "source": [
    "# RC: why do this not align with the above \n",
    "\"\"\"\n",
    "[1.1338372e-01 3.3676171e-01 5.4985458e-01]\n",
    " [6.8999177e-01 2.2262366e-01 8.7384574e-02]\n",
    " [9.3662673e-01 1.8303024e-02 4.5070287e-02]\n",
    " \n",
    " and \n",
    " \n",
    " array([2, 0, 0, 1, 2, 2, 1, 0, 0, 1, 0, 0, 2, 2, 0, 0])\n",
    " \"\"\"\n",
    "results_classes"
   ]
  },
  {
   "cell_type": "code",
   "execution_count": 103,
   "metadata": {},
   "outputs": [
    {
     "data": {
      "text/plain": [
       "{'Denver_Squares': 0, 'contemporary': 1, 'victorians': 2}"
      ]
     },
     "execution_count": 103,
     "metadata": {},
     "output_type": "execute_result"
    }
   ],
   "source": [
    "label_map"
   ]
  },
  {
   "cell_type": "code",
   "execution_count": 64,
   "metadata": {},
   "outputs": [
    {
     "data": {
      "image/png": "[encoded data removed]",
      "text/plain": [
       "<matplotlib.figure.Figure at 0x116479358>"
      ]
     },
     "metadata": {},
     "output_type": "display_data"
    }
   ],
   "source": [
    "index = 0\n",
    "plt.imshow(RC_raw_test_images_to_print[index])\n",
    "plt.show()\n",
    "#print (\"y = \" + str(np.squeeze(RC_raw_images[:, index])))"
   ]
  },
  {
   "cell_type": "code",
   "execution_count": 67,
   "metadata": {},
   "outputs": [
    {
     "data": {
      "text/plain": [
       "array([0.58823532, 0.5411765 , 0.49411768])"
      ]
     },
     "execution_count": 67,
     "metadata": {},
     "output_type": "execute_result"
    }
   ],
   "source": [
    "RC_raw_test_images_to_print[3,125,125,]"
   ]
  },
  {
   "cell_type": "code",
   "execution_count": null,
   "metadata": {
    "collapsed": true
   },
   "outputs": [],
   "source": []
  },
  {
   "cell_type": "code",
   "execution_count": 71,
   "metadata": {},
   "outputs": [
    {
     "ename": "ValueError",
     "evalue": "`decode_predictions` expects a batch of predictions (i.e. a 2D array of shape (samples, 1000)). Found array with shape: (6, 3)",
     "output_type": "error",
     "traceback": [
      "\u001b[0;31m---------------------------------------------------------------------------\u001b[0m",
      "\u001b[0;31mValueError\u001b[0m                                Traceback (most recent call last)",
      "\u001b[0;32m<ipython-input-71-3bad6e5c498a>\u001b[0m in \u001b[0;36m<module>\u001b[0;34m()\u001b[0m\n\u001b[1;32m      1\u001b[0m \u001b[0;32mfrom\u001b[0m \u001b[0mkeras\u001b[0m\u001b[0;34m.\u001b[0m\u001b[0mapplications\u001b[0m\u001b[0;34m.\u001b[0m\u001b[0mvgg16\u001b[0m \u001b[0;32mimport\u001b[0m \u001b[0mdecode_predictions\u001b[0m\u001b[0;34m\u001b[0m\u001b[0m\n\u001b[0;32m----> 2\u001b[0;31m \u001b[0mlabel\u001b[0m \u001b[0;34m=\u001b[0m \u001b[0mdecode_predictions\u001b[0m\u001b[0;34m(\u001b[0m\u001b[0mresults\u001b[0m\u001b[0;34m)\u001b[0m\u001b[0;34m\u001b[0m\u001b[0m\n\u001b[0m\u001b[1;32m      3\u001b[0m \u001b[0mprint\u001b[0m\u001b[0;34m(\u001b[0m\u001b[0mlabel\u001b[0m\u001b[0;34m)\u001b[0m\u001b[0;34m\u001b[0m\u001b[0m\n",
      "\u001b[0;32m/Users/rchase/anaconda/lib/python3.6/site-packages/keras/applications/imagenet_utils.py\u001b[0m in \u001b[0;36mdecode_predictions\u001b[0;34m(preds, top)\u001b[0m\n\u001b[1;32m    200\u001b[0m                          \u001b[0;34m'a batch of predictions '\u001b[0m\u001b[0;34m\u001b[0m\u001b[0m\n\u001b[1;32m    201\u001b[0m                          \u001b[0;34m'(i.e. a 2D array of shape (samples, 1000)). '\u001b[0m\u001b[0;34m\u001b[0m\u001b[0m\n\u001b[0;32m--> 202\u001b[0;31m                          'Found array with shape: ' + str(preds.shape))\n\u001b[0m\u001b[1;32m    203\u001b[0m     \u001b[0;32mif\u001b[0m \u001b[0mCLASS_INDEX\u001b[0m \u001b[0;32mis\u001b[0m \u001b[0;32mNone\u001b[0m\u001b[0;34m:\u001b[0m\u001b[0;34m\u001b[0m\u001b[0m\n\u001b[1;32m    204\u001b[0m         fpath = get_file('imagenet_class_index.json',\n",
      "\u001b[0;31mValueError\u001b[0m: `decode_predictions` expects a batch of predictions (i.e. a 2D array of shape (samples, 1000)). Found array with shape: (6, 3)"
     ]
    }
   ],
   "source": [
    "#https://towardsdatascience.com/whats-that-image-fb6ab703c4a5from keras.applications.vgg16 import decode_predictions\n",
    "label = decode_predictions(results)\n",
    "print(label)"
   ]
  },
  {
   "cell_type": "code",
   "execution_count": 57,
   "metadata": {
    "collapsed": true
   },
   "outputs": [],
   "source": [
    "#RC: I'd like to use a combination of the below, but I'm not sure what the feature dimensions are when they actually use flow_from_directory BEFORE using conv_base to predict and get the out putput which we'd then need to convert to the 2 dimensional matrix\n",
    "from keras.preprocessing import image\n",
    "\n",
    "def load_image(test_dir, show=False):\n",
    "\n",
    "    img = image.load_img(test_dir, target_size=(150, 150))\n",
    "    img_tensor = image.img_to_array(img)                    # (height, width, channels)\n",
    "    img_tensor = np.expand_dims(img_tensor, axis=0)         # (1, height, width, channels), add a dimension because the model expects this shape: (batch_size, height, width, channels)\n",
    "    img_tensor /= 255.                                      # imshow expects values in the range [0, 1]\n",
    " \n",
    "\n",
    "load_image(test_dir+'hidden_classes/test 2.jpg')"
   ]
  },
  {
   "cell_type": "code",
   "execution_count": 201,
   "metadata": {},
   "outputs": [
    {
     "name": "stdout",
     "output_type": "stream",
     "text": [
      "[[[[0.39321703 0.         0.         ... 0.         0.44950604\n",
      "    0.        ]\n",
      "   [0.66083187 0.         0.         ... 0.         0.\n",
      "    0.        ]\n",
      "   [0.86983895 0.         0.         ... 0.         0.\n",
      "    0.        ]\n",
      "   [0.2916637  0.         0.         ... 0.         0.\n",
      "    0.        ]]\n",
      "\n",
      "  [[0.49590904 0.         0.         ... 0.         0.9443723\n",
      "    0.        ]\n",
      "   [0.5702241  0.         0.         ... 0.         0.5729468\n",
      "    0.        ]\n",
      "   [0.11124131 0.         0.         ... 0.         0.08119887\n",
      "    0.        ]\n",
      "   [0.7263701  0.         0.         ... 0.         0.31839642\n",
      "    0.        ]]\n",
      "\n",
      "  [[0.4746732  0.         0.09706274 ... 0.         1.2202439\n",
      "    0.        ]\n",
      "   [1.0607734  0.         0.04258046 ... 0.         0.7524153\n",
      "    0.        ]\n",
      "   [0.929091   0.         0.         ... 0.         0.24107721\n",
      "    0.        ]\n",
      "   [1.4596096  0.         0.         ... 0.         0.51516366\n",
      "    0.        ]]\n",
      "\n",
      "  [[0.57345027 0.         0.15884078 ... 0.         0.66196465\n",
      "    0.        ]\n",
      "   [0.6126629  0.         0.01800758 ... 0.         0.39790955\n",
      "    0.        ]\n",
      "   [0.42075115 0.         0.         ... 0.         0.\n",
      "    0.        ]\n",
      "   [0.5685631  0.         0.         ... 0.         0.49411073\n",
      "    0.        ]]]]\n",
      "(1, 4, 4, 512)\n"
     ]
    },
    {
     "data": {
      "text/plain": [
       "array([[0.00325804, 0.00171638, 0.06686961]], dtype=float32)"
      ]
     },
     "execution_count": 201,
     "metadata": {},
     "output_type": "execute_result"
    }
   ],
   "source": [
    "\n",
    "print(features_batch)\n",
    "print(features_batch.shape)\n",
    "\n",
    "#RC: After we pipe in through the conv_base, we need to add this line to convert to a two dimensional array\n",
    "re_shaped_img_tensor = np.reshape(features_batch, (1, 4 * 4 * 512))\n",
    "\n",
    "#RC: use our model containing the fully connected dense classification layer to serve our predictions\n",
    "model.predict(re_shaped_img_tensor)\n",
    "\n"
   ]
  },
  {
   "cell_type": "code",
   "execution_count": null,
   "metadata": {
    "collapsed": true
   },
   "outputs": [],
   "source": [
    "\n",
    "\n",
    "from keras.preprocessing import image\n",
    "\n",
    "def load_image(img_path, show=False):\n",
    "\n",
    "    img = image.load_img(img_path, target_size=(150, 150))\n",
    "    img_tensor = image.img_to_array(img)                    # (height, width, channels)\n",
    "    img_tensor = np.expand_dims(img_tensor, axis=0)         # (1, height, width, channels), add a dimension because the model expects this shape: (batch_size, height, width, channels)\n",
    "    img_tensor /= 255.                                      # imshow expects values in the range [0, 1]\n",
    "\n",
    "    if show:\n",
    "        plt.imshow(img_tensor[0])                           \n",
    "        plt.axis('off')\n",
    "        plt.show()\n",
    "\n",
    "    return img_tensor\n",
    "\n",
    "\n",
    "if __name__ == \"__main__\":\n",
    "\n",
    "    # load model\n",
    "    #model = load_model(\"model_aug.h5\")\n",
    "\n",
    "    # image path\n",
    "    img_path = '/Users/rchase/Documents/Ryan Chase Deloitte Files/M.S/PRED_590 - Masters Thesis/Images/architecture_styles/test/test6.jpg'    # dog\n",
    "    #img_path = '/media/data/dogscats/test1/19.jpg'      # cat\n",
    "\n",
    "    # load a single image\n",
    "    new_image = load_image(img_path)\n",
    "\n",
    "    # check prediction\n",
    "    pred = model.predict(new_image)\n"
   ]
  },
  {
   "cell_type": "code",
   "execution_count": 44,
   "metadata": {
    "collapsed": true
   },
   "outputs": [],
   "source": [
    "\n"
   ]
  },
  {
   "cell_type": "code",
   "execution_count": 45,
   "metadata": {},
   "outputs": [
    {
     "data": {
      "text/plain": [
       "(1, 150, 150, 3)"
      ]
     },
     "execution_count": 45,
     "metadata": {},
     "output_type": "execute_result"
    }
   ],
   "source": [
    "img_tensor.shape"
   ]
  },
  {
   "cell_type": "markdown",
   "metadata": {},
   "source": [
    "\n",
    "We reach a validation accuracy of about 90%, much better than what we could achieve in the previous section with our small model trained from \n",
    "scratch. However, our plots also indicate that we are overfitting almost from the start -- despite using dropout with a fairly large rate. \n",
    "This is because this technique does not leverage data augmentation, which is essential to preventing overfitting with small image datasets.\n",
    "\n",
    "Now, let's review the second technique we mentioned for doing feature extraction, which is much slower and more expensive, but which allows \n",
    "us to leverage data augmentation during training: extending the `conv_base` model and running it end-to-end on the inputs. Note that this \n",
    "technique is in fact so expensive that you should only attempt it if you have access to a GPU: it is absolutely intractable on CPU. If you \n",
    "cannot run your code on GPU, then the previous technique is the way to go.\n",
    "\n",
    "Because models behave just like layers, you can add a model (like our `conv_base`) to a `Sequential` model just like you would add a layer. \n",
    "So you can do the following:"
   ]
  },
  {
   "cell_type": "code",
   "execution_count": 80,
   "metadata": {
    "collapsed": true
   },
   "outputs": [],
   "source": [
    "from keras import models\n",
    "from keras import layers\n",
    "\n",
    "model = models.Sequential()\n",
    "model.add(conv_base)\n",
    "model.add(layers.Flatten())\n",
    "model.add(layers.Dense(256, activation='relu'))\n",
    "# the 3 corresponds to the three output classes\n",
    "model.add(layers.Dense(3, activation='sigmoid'))"
   ]
  },
  {
   "cell_type": "markdown",
   "metadata": {},
   "source": [
    "This is what our model looks like now:"
   ]
  },
  {
   "cell_type": "code",
   "execution_count": 83,
   "metadata": {},
   "outputs": [
    {
     "name": "stdout",
     "output_type": "stream",
     "text": [
      "_________________________________________________________________\n",
      "Layer (type)                 Output Shape              Param #   \n",
      "=================================================================\n",
      "vgg16 (Model)                (None, 4, 4, 512)         14714688  \n",
      "_________________________________________________________________\n",
      "flatten_2 (Flatten)          (None, 8192)              0         \n",
      "_________________________________________________________________\n",
      "dense_7 (Dense)              (None, 256)               2097408   \n",
      "_________________________________________________________________\n",
      "dense_8 (Dense)              (None, 3)                 771       \n",
      "=================================================================\n",
      "Total params: 16,812,867\n",
      "Trainable params: 2,098,179\n",
      "Non-trainable params: 14,714,688\n",
      "_________________________________________________________________\n"
     ]
    }
   ],
   "source": [
    "model.summary()"
   ]
  },
  {
   "cell_type": "markdown",
   "metadata": {},
   "source": [
    "As you can see, the convolutional base of VGG16 has 14,714,688 parameters, which is very large. The classifier we are adding on top has 2 \n",
    "million parameters.\n",
    "\n",
    "Before we compile and train our model, a very important thing to do is to freeze the convolutional base. \"Freezing\" a layer or set of \n",
    "layers means preventing their weights from getting updated during training. If we don't do this, then the representations that were \n",
    "previously learned by the convolutional base would get modified during training. Since the `Dense` layers on top are randomly initialized, \n",
    "very large weight updates would be propagated through the network, effectively destroying the representations previously learned.\n",
    "\n",
    "In Keras, freezing a network is done by setting its `trainable` attribute to `False`:"
   ]
  },
  {
   "cell_type": "code",
   "execution_count": 70,
   "metadata": {},
   "outputs": [
    {
     "name": "stdout",
     "output_type": "stream",
     "text": [
      "This is the number of trainable weights before freezing the conv base: 30\n"
     ]
    }
   ],
   "source": [
    "# RC: this must be the number of filters? Since in the next section it gets reducted to 4 (2 convoluaional layers with 2 biases each)\n",
    "print('This is the number of trainable weights '\n",
    "      'before freezing the conv base:', len(model.trainable_weights))"
   ]
  },
  {
   "cell_type": "code",
   "execution_count": 84,
   "metadata": {
    "collapsed": true
   },
   "outputs": [],
   "source": [
    "conv_base.trainable = False"
   ]
  },
  {
   "cell_type": "code",
   "execution_count": 85,
   "metadata": {},
   "outputs": [
    {
     "name": "stdout",
     "output_type": "stream",
     "text": [
      "This is the number of trainable weights after freezing the conv base: 4\n"
     ]
    }
   ],
   "source": [
    "print('This is the number of trainable weights '\n",
    "      'after freezing the conv base:', len(model.trainable_weights))"
   ]
  },
  {
   "cell_type": "markdown",
   "metadata": {},
   "source": [
    "With this setup, only the weights from the two `Dense` layers that we added will be trained. That's a total of four weight tensors: two per \n",
    "layer (the main weight matrix and the bias vector). Note that in order for these changes to take effect, we must first compile the model. \n",
    "If you ever modify weight trainability after compilation, you should then re-compile the model, or these changes would be ignored.\n",
    "\n",
    "Now we can start training our model, with the same data augmentation configuration that we used in our previous example:"
   ]
  },
  {
   "cell_type": "code",
   "execution_count": 86,
   "metadata": {},
   "outputs": [
    {
     "name": "stdout",
     "output_type": "stream",
     "text": [
      "Found 820 images belonging to 3 classes.\n",
      "Found 100 images belonging to 3 classes.\n",
      "Epoch 1/30\n",
      " - 764s - loss: 0.9030 - acc: 0.5740 - val_loss: 0.7055 - val_acc: 0.7600\n",
      "Epoch 2/30\n",
      " - 731s - loss: 0.7050 - acc: 0.7310 - val_loss: 0.5475 - val_acc: 0.8300\n",
      "Epoch 3/30\n",
      " - 735s - loss: 0.5996 - acc: 0.7730 - val_loss: 0.4618 - val_acc: 0.8900\n",
      "Epoch 4/30\n",
      " - 789s - loss: 0.5522 - acc: 0.7920 - val_loss: 0.4245 - val_acc: 0.8900\n",
      "Epoch 5/30\n",
      " - 779s - loss: 0.5115 - acc: 0.8040 - val_loss: 0.3961 - val_acc: 0.8900\n",
      "Epoch 6/30\n",
      " - 865s - loss: 0.4871 - acc: 0.8095 - val_loss: 0.3635 - val_acc: 0.9000\n",
      "Epoch 7/30\n",
      " - 715s - loss: 0.4568 - acc: 0.8335 - val_loss: 0.3459 - val_acc: 0.8900\n",
      "Epoch 8/30\n",
      " - 704s - loss: 0.4641 - acc: 0.8170 - val_loss: 0.3318 - val_acc: 0.8900\n",
      "Epoch 9/30\n",
      " - 762s - loss: 0.4199 - acc: 0.8455 - val_loss: 0.3183 - val_acc: 0.9100\n",
      "Epoch 10/30\n",
      " - 759s - loss: 0.4190 - acc: 0.8415 - val_loss: 0.3164 - val_acc: 0.9000\n",
      "Epoch 11/30\n",
      " - 802s - loss: 0.4152 - acc: 0.8455 - val_loss: 0.3083 - val_acc: 0.9000\n",
      "Epoch 12/30\n",
      " - 751s - loss: 0.4048 - acc: 0.8435 - val_loss: 0.2991 - val_acc: 0.9100\n",
      "Epoch 13/30\n",
      " - 852s - loss: 0.3919 - acc: 0.8575 - val_loss: 0.2949 - val_acc: 0.8900\n",
      "Epoch 14/30\n",
      " - 798s - loss: 0.3863 - acc: 0.8495 - val_loss: 0.2807 - val_acc: 0.9100\n",
      "Epoch 15/30\n",
      " - 874s - loss: 0.3607 - acc: 0.8705 - val_loss: 0.2769 - val_acc: 0.9100\n",
      "Epoch 16/30\n",
      " - 836s - loss: 0.3795 - acc: 0.8570 - val_loss: 0.2703 - val_acc: 0.8900\n",
      "Epoch 17/30\n",
      " - 830s - loss: 0.3594 - acc: 0.8640 - val_loss: 0.2867 - val_acc: 0.8800\n",
      "Epoch 18/30\n",
      " - 746s - loss: 0.3593 - acc: 0.8665 - val_loss: 0.2879 - val_acc: 0.9100\n",
      "Epoch 19/30\n",
      " - 694s - loss: 0.3642 - acc: 0.8580 - val_loss: 0.2763 - val_acc: 0.8900\n",
      "Epoch 20/30\n",
      " - 704s - loss: 0.3592 - acc: 0.8670 - val_loss: 0.2788 - val_acc: 0.8800\n",
      "Epoch 21/30\n",
      " - 670s - loss: 0.3416 - acc: 0.8610 - val_loss: 0.2771 - val_acc: 0.8700\n",
      "Epoch 22/30\n",
      " - 666s - loss: 0.3243 - acc: 0.8800 - val_loss: 0.2599 - val_acc: 0.9000\n",
      "Epoch 23/30\n",
      " - 694s - loss: 0.3142 - acc: 0.8885 - val_loss: 0.2534 - val_acc: 0.9100\n",
      "Epoch 24/30\n",
      " - 667s - loss: 0.3206 - acc: 0.8805 - val_loss: 0.2620 - val_acc: 0.8800\n",
      "Epoch 25/30\n",
      " - 701s - loss: 0.3344 - acc: 0.8765 - val_loss: 0.2602 - val_acc: 0.9100\n",
      "Epoch 26/30\n",
      " - 681s - loss: 0.3117 - acc: 0.8820 - val_loss: 0.2493 - val_acc: 0.9100\n",
      "Epoch 27/30\n",
      " - 680s - loss: 0.3127 - acc: 0.8795 - val_loss: 0.2520 - val_acc: 0.9000\n",
      "Epoch 28/30\n",
      " - 695s - loss: 0.3076 - acc: 0.8860 - val_loss: 0.2764 - val_acc: 0.8800\n",
      "Epoch 29/30\n",
      " - 681s - loss: 0.3213 - acc: 0.8765 - val_loss: 0.2526 - val_acc: 0.9000\n",
      "Epoch 30/30\n",
      " - 688s - loss: 0.3010 - acc: 0.8865 - val_loss: 0.2579 - val_acc: 0.9000\n"
     ]
    }
   ],
   "source": [
    "from keras.preprocessing.image import ImageDataGenerator\n",
    "\n",
    "train_datagen = ImageDataGenerator(\n",
    "      rescale=1./255,\n",
    "      rotation_range=40,\n",
    "      width_shift_range=0.2,\n",
    "      height_shift_range=0.2,\n",
    "      shear_range=0.2,\n",
    "      zoom_range=0.2,\n",
    "      horizontal_flip=True,\n",
    "      fill_mode='nearest')\n",
    "\n",
    "# Note that the validation data should NOT be augmented!\n",
    "test_datagen = ImageDataGenerator(rescale=1./255)\n",
    "\n",
    "train_generator = train_datagen.flow_from_directory(\n",
    "        # This is the target directory\n",
    "        train_dir,\n",
    "        # All images will be resized to 150x150\n",
    "        target_size=(150, 150),\n",
    "        batch_size=20,\n",
    "        class_mode='categorical')\n",
    "\n",
    "validation_generator = test_datagen.flow_from_directory(\n",
    "        validation_dir,\n",
    "        target_size=(150, 150),\n",
    "        batch_size=20,\n",
    "        class_mode='categorical')\n",
    "\n",
    "model.compile(loss='categorical_crossentropy',\n",
    "              optimizer=optimizers.RMSprop(lr=2e-5),\n",
    "              metrics=['acc'])\n",
    "\n",
    "history = model.fit_generator(\n",
    "      train_generator,\n",
    "      #now that we're augmenting the data, we don't need to be careful about feeding the same image to the trainig model more than once per epoch.  \n",
    "      # therefore, we can choose the number of batches we want and it doesn't have to be computed via (number of training images)/(batch_size)\n",
    "    #RC: is the above correct per keras documentation: steps_per_epoch: Total number of steps (batches of samples) to yield from generator before declaring one epoch finished and starting the next epoch. It should typically be equal to the number of samples of your dataset divided by the batch size.   \n",
    "    #https://keras.io/models/sequential/ \n",
    "      steps_per_epoch=100, \n",
    "      epochs=30,\n",
    "      validation_data=validation_generator,\n",
    "      validation_steps=50,\n",
    "      verbose=2)"
   ]
  },
  {
   "cell_type": "code",
   "execution_count": 91,
   "metadata": {
    "collapsed": true
   },
   "outputs": [],
   "source": [
    "model.save(model_weights_dir + 'Feature_extraction_with_data_augmentation.h5')"
   ]
  },
  {
   "cell_type": "markdown",
   "metadata": {},
   "source": [
    "Let's plot our results again:"
   ]
  },
  {
   "cell_type": "code",
   "execution_count": 92,
   "metadata": {},
   "outputs": [
    {
     "data": {
      "image/png": "[encoded data removed]",
      "text/plain": [
       "<matplotlib.figure.Figure at 0x11765eef0>"
      ]
     },
     "metadata": {},
     "output_type": "display_data"
    },
    {
     "data": {
      "image/png": "[encoded data removed]",
      "text/plain": [
       "<matplotlib.figure.Figure at 0x10ea84550>"
      ]
     },
     "metadata": {},
     "output_type": "display_data"
    }
   ],
   "source": [
    "acc = history.history['acc']\n",
    "val_acc = history.history['val_acc']\n",
    "loss = history.history['loss']\n",
    "val_loss = history.history['val_loss']\n",
    "\n",
    "epochs = range(len(acc))\n",
    "\n",
    "plt.plot(epochs, acc, 'bo', label='Training acc')\n",
    "plt.plot(epochs, val_acc, 'b', label='Validation acc')\n",
    "plt.title('Training and validation accuracy')\n",
    "plt.legend()\n",
    "\n",
    "plt.figure()\n",
    "\n",
    "plt.plot(epochs, loss, 'bo', label='Training loss')\n",
    "plt.plot(epochs, val_loss, 'b', label='Validation loss')\n",
    "plt.title('Training and validation loss')\n",
    "plt.legend()\n",
    "\n",
    "plt.show()"
   ]
  },
  {
   "cell_type": "markdown",
   "metadata": {},
   "source": [
    "As you can see, we reach a validation accuracy of about 96%. This is much better than our small convnet trained from scratch."
   ]
  },
  {
   "cell_type": "markdown",
   "metadata": {},
   "source": [
    "## Fine-tuning\n",
    "\n",
    "Another widely used technique for model reuse, complementary to feature extraction, is _fine-tuning_. \n",
    "Fine-tuning consists in unfreezing a few of the top layers \n",
    "of a frozen model base used for feature extraction, and jointly training both the newly added part of the model (in our case, the \n",
    "fully-connected classifier) and these top layers. This is called \"fine-tuning\" because it slightly adjusts the more abstract \n",
    "representations of the model being reused, in order to make them more relevant for the problem at hand.\n",
    "\n",
    "![fine-tuning VGG16](https://s3.amazonaws.com/book.keras.io/img/ch5/vgg16_fine_tuning.png)"
   ]
  },
  {
   "cell_type": "markdown",
   "metadata": {},
   "source": [
    "We have stated before that it was necessary to freeze the convolution base of VGG16 in order to be able to train a randomly initialized \n",
    "classifier on top. For the same reason, it is only possible to fine-tune the top layers of the convolutional base once the classifier on \n",
    "top has already been trained. If the classified wasn't already trained, then the error signal propagating through the network during \n",
    "training would be too large, and the representations previously learned by the layers being fine-tuned would be destroyed. Thus the steps \n",
    "for fine-tuning a network are as follow:\n",
    "\n",
    "* 1) Add your custom network on top of an already trained base network.\n",
    "* 2) Freeze the base network.\n",
    "* 3) Train the part you added.\n",
    "* 4) Unfreeze some layers in the base network.\n",
    "* 5) Jointly train both these layers and the part you added.\n",
    "\n",
    "We have already completed the first 3 steps when doing feature extraction. Let's proceed with the 4th step: we will unfreeze our `conv_base`, \n",
    "and then freeze individual layers inside of it.\n",
    "\n",
    "As a reminder, this is what our convolutional base looks like:"
   ]
  },
  {
   "cell_type": "code",
   "execution_count": null,
   "metadata": {
    "collapsed": true
   },
   "outputs": [],
   "source": [
    "conv_base.summary()"
   ]
  },
  {
   "cell_type": "markdown",
   "metadata": {},
   "source": [
    "\n",
    "We will fine-tune the last 3 convolutional layers, which means that all layers up until `block4_pool` should be frozen, and the layers \n",
    "`block5_conv1`, `block5_conv2` and `block5_conv3` should be trainable.\n",
    "\n",
    "Why not fine-tune more layers? Why not fine-tune the entire convolutional base? We could. However, we need to consider that:\n",
    "\n",
    "* Earlier layers in the convolutional base encode more generic, reusable features, while layers higher up encode more specialized features. It is \n",
    "more useful to fine-tune the more specialized features, as these are the ones that need to be repurposed on our new problem. There would \n",
    "be fast-decreasing returns in fine-tuning lower layers.\n",
    "* The more parameters we are training, the more we are at risk of overfitting. The convolutional base has 15M parameters, so it would be \n",
    "risky to attempt to train it on our small dataset.\n",
    "\n",
    "Thus, in our situation, it is a good strategy to only fine-tune the top 2 to 3 layers in the convolutional base.\n",
    "\n",
    "Let's set this up, starting from where we left off in the previous example:"
   ]
  },
  {
   "cell_type": "code",
   "execution_count": null,
   "metadata": {
    "collapsed": true
   },
   "outputs": [],
   "source": [
    "conv_base.trainable = True\n",
    "\n",
    "set_trainable = False\n",
    "for layer in conv_base.layers:\n",
    "    if layer.name == 'block5_conv1':\n",
    "        set_trainable = True\n",
    "    if set_trainable:\n",
    "        layer.trainable = True\n",
    "    else:\n",
    "        layer.trainable = False"
   ]
  },
  {
   "cell_type": "markdown",
   "metadata": {},
   "source": [
    "Now we can start fine-tuning our network. We will do this with the RMSprop optimizer, using a very low learning rate. The reason for using \n",
    "a low learning rate is that we want to limit the magnitude of the modifications we make to the representations of the 3 layers that we are \n",
    "fine-tuning. Updates that are too large may harm these representations.\n",
    "\n",
    "Now let's proceed with fine-tuning:"
   ]
  },
  {
   "cell_type": "code",
   "execution_count": null,
   "metadata": {
    "collapsed": true
   },
   "outputs": [],
   "source": [
    "model.compile(loss='binary_crossentropy',\n",
    "              optimizer=optimizers.RMSprop(lr=1e-5),\n",
    "              metrics=['acc'])\n",
    "\n",
    "history = model.fit_generator(\n",
    "      train_generator,\n",
    "      steps_per_epoch=100,\n",
    "      epochs=100,\n",
    "      validation_data=validation_generator,\n",
    "      validation_steps=50)"
   ]
  },
  {
   "cell_type": "code",
   "execution_count": null,
   "metadata": {
    "collapsed": true
   },
   "outputs": [],
   "source": [
    "model.save('cats_and_dogs_small_4.h5')"
   ]
  },
  {
   "cell_type": "markdown",
   "metadata": {},
   "source": [
    "Let's plot our results using the same plotting code as before:"
   ]
  },
  {
   "cell_type": "code",
   "execution_count": null,
   "metadata": {
    "collapsed": true
   },
   "outputs": [],
   "source": [
    "acc = history.history['acc']\n",
    "val_acc = history.history['val_acc']\n",
    "loss = history.history['loss']\n",
    "val_loss = history.history['val_loss']\n",
    "\n",
    "epochs = range(len(acc))\n",
    "\n",
    "plt.plot(epochs, acc, 'bo', label='Training acc')\n",
    "plt.plot(epochs, val_acc, 'b', label='Validation acc')\n",
    "plt.title('Training and validation accuracy')\n",
    "plt.legend()\n",
    "\n",
    "plt.figure()\n",
    "\n",
    "plt.plot(epochs, loss, 'bo', label='Training loss')\n",
    "plt.plot(epochs, val_loss, 'b', label='Validation loss')\n",
    "plt.title('Training and validation loss')\n",
    "plt.legend()\n",
    "\n",
    "plt.show()"
   ]
  },
  {
   "cell_type": "markdown",
   "metadata": {},
   "source": [
    "\n",
    "These curves look very noisy. To make them more readable, we can smooth them by replacing every loss and accuracy with exponential moving \n",
    "averages of these quantities. Here's a trivial utility function to do this:"
   ]
  },
  {
   "cell_type": "code",
   "execution_count": null,
   "metadata": {
    "collapsed": true
   },
   "outputs": [],
   "source": [
    "def smooth_curve(points, factor=0.8):\n",
    "  smoothed_points = []\n",
    "  for point in points:\n",
    "    if smoothed_points:\n",
    "      previous = smoothed_points[-1]\n",
    "      smoothed_points.append(previous * factor + point * (1 - factor))\n",
    "    else:\n",
    "      smoothed_points.append(point)\n",
    "  return smoothed_points\n",
    "\n",
    "plt.plot(epochs,\n",
    "         smooth_curve(acc), 'bo', label='Smoothed training acc')\n",
    "plt.plot(epochs,\n",
    "         smooth_curve(val_acc), 'b', label='Smoothed validation acc')\n",
    "plt.title('Training and validation accuracy')\n",
    "plt.legend()\n",
    "\n",
    "plt.figure()\n",
    "\n",
    "plt.plot(epochs,\n",
    "         smooth_curve(loss), 'bo', label='Smoothed training loss')\n",
    "plt.plot(epochs,\n",
    "         smooth_curve(val_loss), 'b', label='Smoothed validation loss')\n",
    "plt.title('Training and validation loss')\n",
    "plt.legend()\n",
    "\n",
    "plt.show()"
   ]
  },
  {
   "cell_type": "markdown",
   "metadata": {},
   "source": [
    "\n",
    "These curves look much cleaner and more stable. We are seeing a nice 1% absolute improvement.\n",
    "\n",
    "Note that the loss curve does not show any real improvement (in fact, it is deteriorating). You may wonder, how could accuracy improve if the \n",
    "loss isn't decreasing? The answer is simple: what we display is an average of pointwise loss values, but what actually matters for accuracy \n",
    "is the distribution of the loss values, not their average, since accuracy is the result of a binary thresholding of the class probability \n",
    "predicted by the model. The model may still be improving even if this isn't reflected in the average loss.\n",
    "\n",
    "We can now finally evaluate this model on the test data:"
   ]
  },
  {
   "cell_type": "code",
   "execution_count": null,
   "metadata": {
    "collapsed": true
   },
   "outputs": [],
   "source": [
    "test_generator = test_datagen.flow_from_directory(\n",
    "        test_dir,\n",
    "        target_size=(150, 150),\n",
    "        batch_size=20,\n",
    "        class_mode='binary')\n",
    "\n",
    "test_loss, test_acc = model.evaluate_generator(test_generator, steps=50)\n",
    "print('test acc:', test_acc)"
   ]
  },
  {
   "cell_type": "markdown",
   "metadata": {},
   "source": [
    "\n",
    "Here we get a test accuracy of 97%. In the original Kaggle competition around this dataset, this would have been one of the top results. \n",
    "However, using modern deep learning techniques, we managed to reach this result using only a very small fraction of the training data \n",
    "available (about 10%). There is a huge difference between being able to train on 20,000 samples compared to 2,000 samples!"
   ]
  },
  {
   "cell_type": "markdown",
   "metadata": {},
   "source": [
    "## Take-aways: using convnets with small datasets\n",
    "\n",
    "Here's what you should take away from the exercises of these past two sections:\n",
    "\n",
    "* Convnets are the best type of machine learning models for computer vision tasks. It is possible to train one from scratch even on a very \n",
    "small dataset, with decent results.\n",
    "* On a small dataset, overfitting will be the main issue. Data augmentation is a powerful way to fight overfitting when working with image \n",
    "data.\n",
    "* It is easy to reuse an existing convnet on a new dataset, via feature extraction. This is a very valuable technique for working with \n",
    "small image datasets.\n",
    "* As a complement to feature extraction, one may use fine-tuning, which adapts to a new problem some of the representations previously \n",
    "learned by an existing model. This pushes performance a bit further.\n",
    "\n",
    "Now you have a solid set of tools for dealing with image classification problems, in particular with small datasets."
   ]
  }
 ],
 "metadata": {
  "kernelspec": {
   "display_name": "Python 3",
   "language": "python",
   "name": "python3"
  },
  "language_info": {
   "codemirror_mode": {
    "name": "ipython",
    "version": 3
   },
   "file_extension": ".py",
   "mimetype": "text/x-python",
   "name": "python",
   "nbconvert_exporter": "python",
   "pygments_lexer": "ipython3",
   "version": "3.6.1"
  }
 },
 "nbformat": 4,
 "nbformat_minor": 2
}
